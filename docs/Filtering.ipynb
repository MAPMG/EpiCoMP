{
 "cells": [
  {
   "cell_type": "markdown",
   "metadata": {},
   "source": [
    "# Filtering\n",
    "\n",
    "In this notebook, we review fitting methods that can be applied to the particles we reviewed in the `Particles.ipynb` notebook.\n",
    "\n",
    "The core idea of Particle Filtering is that we simulate a system many times, and that we preferentially over-sample simulations which closely resemble our observed data.  First, we simulate the system many times; then, we collect simulated observational data (e.g. hospital admissions).  This data can then be compared to our real observed data and assigned a score.  Then, in a traditional particle filter, we resample the particles with replacement and with probability weights determined by the evaluation criteria.  Typically, particle filtering algorithms will only resample the data when a certain threshold is reached.  This threshold is based on the _diversity_ of particle weights - if the weights between particles have  diverged significantly, this triggers a filtering step.  Otherwise, the algorithm waits because the filtering is unlikely to accomplish anything (non-diverse weights mean that the filtering is essentially just a random shuffle, as opposed to a targeted resampling of high-quality simulations).\n",
    "\n",
    "### Implementation\n",
    "\n",
    "We have designed our implementation of the particle filter (or Genetic Particle Filter) to be extremely simple.  We need only one function - `particle_filter` - to fit our model.\n",
    "\n",
    "We begin by importing this function."
   ]
  },
  {
   "cell_type": "code",
   "execution_count": 2,
   "metadata": {},
   "outputs": [],
   "source": [
    "from covid_particle_filter.filter.filter import particle_filter"
   ]
  },
  {
   "cell_type": "markdown",
   "metadata": {},
   "source": [
    "The `particle_filter` function takes 6 arguments:\n",
    "\n",
    "    h_obs (list): a list of tuples (t,y) that indicates the evaluation value (y) occurring between the \n",
    "         previous pair's t value and the current t value (by default, hospital admissions over that period)\n",
    "    n_particles (int): the number of particles to create (default 10000)\n",
    "    dt (numeric): the step size for the simulation (NOT for the evaluation steps; default 0.1)\n",
    "    gen (generator): a generator to construct a set of particles (default SEIHR_generator from the particle module)\n",
    "    particles (list of instantiated Particle objects): a list of particles that have already been partially fitted \n",
    "        (overrides the generator and continues fitting these particles)\n",
    "    s_min (float): minimum effective sample size that triggers resampling (defaults to 0.9*n_particles if None/not specified)\n",
    "    \n",
    "Our first argument, `h_obs`, determines the fitting period.  You must include a list of tuple with timestamps (in the 'time-since initiation' sense) and observed quantities to fit against (typically, the hospital admissions observed since the previous timsestamp).  Note that this argument will determine how long a set of particles fits for.  Particles cannot be fit without the appropriate data and all data submitted to the model is used.\n",
    "\n",
    "The remaining arguments are hyperparameters used in the fitting process.  The `n_particles` hyperparameter tells the model how many simulations (particles) to use.  `dt` determines the simulation timestep, as reviewed in the `Particle.ipynb` notebook.  You must also provide _either_ a particle generator (`gen`) or a list of pre-generated particles (`particles`); the latter option can be used to continue fitting for a partially-fit set of particles that you would like to update with the latest data.  Finally, you can select `s_min`, the minimum  effective sample size in order to trigger a resampling step.  `S` is our measure of particle diversity, as described by [Murphy](http://noiselab.ucsd.edu/ECE228/Murphy_Machine_Learning.pdf).\n",
    "\n",
    "We present the code below (this is a full copy, less some comments, of the filter code available in epicomp/covid_particle_filter/filter/filter.py)."
   ]
  },
  {
   "cell_type": "code",
   "execution_count": null,
   "metadata": {},
   "outputs": [],
   "source": [
    "from covid_particle_filter.particle.SEIHR import SEIHR_generator\n",
    "import numpy as np\n",
    "import warnings\n",
    "\n",
    "def particle_filter(\n",
    "    h_obs,\n",
    "    n_particles = 10000,\n",
    "    dt = 0.1,\n",
    "    gen = SEIHR_generator(100000),\n",
    "    particles = None,\n",
    "    s_min = None\n",
    "):\n",
    "    \n",
    "    # Get the list of particles to fit\n",
    "    if particles is not None:\n",
    "        n_particles = len(particles)\n",
    "        t_prev = particles[0].t\n",
    "        if any([t_ <= t_prev for t_, y in h_obs]):\n",
    "            warnings.warn(\"Dropping observations with time below current simulation time\")\n",
    "            h_obs = [(t_, y) for t_, y in h_obs if t_ > t_prev]\n",
    "            \n",
    "        particles = [p.copy() for p in particles]\n",
    "        \n",
    "    else:\n",
    "        particles = [\n",
    "            gen.generate(i) for i in range(n_particles)\n",
    "        ]\n",
    "        t_prev = 0\n",
    "    \n",
    "    if s_min is None:\n",
    "        s_min = n_particles*0.9\n",
    "    \n",
    "    #Loop over observations\n",
    "    for t, y in h_obs:\n",
    "        \n",
    "        #Using list comprehension; for each particle, step forward to the next evaluation point\n",
    "        #and update weights based on the eval_value, which need not be atomic\n",
    "        tmp_particles = [\n",
    "            x.step(t, i, dt = dt, eval_value = y) for x, i in zip(particles, range(len(particles)))\n",
    "        ]\n",
    "        \n",
    "        #Harvest the weights from all particles, then normalize to add to 1\n",
    "        pre_weights = [x.w_t for x in tmp_particles]\n",
    "        weights = np.array(pre_weights)/np.sum(pre_weights)\n",
    "        s_eff = 1/np.sum(weights**2)\n",
    "        \n",
    "        for x, w in zip(tmp_particles, weights):\n",
    "            x.w_t = w\n",
    "            \n",
    "        print(s_eff)\n",
    "        \n",
    "        #If effective sample size is below minimum, then perform resampling\n",
    "        if s_eff < s_min:\n",
    "            \n",
    "            particles = np.random.choice(\n",
    "                tmp_particles,\n",
    "                p = weights, \n",
    "                replace = 1, \n",
    "                size = len(particles)\n",
    "            )\n",
    "            \n",
    "            for x in particles:\n",
    "                x.w_t = 1/len(particles)\n",
    "                \n",
    "        else:\n",
    "            particles = tmp_particles\n",
    "        \n",
    "    return particles"
   ]
  },
  {
   "cell_type": "markdown",
   "metadata": {},
   "source": [
    "#### Example\n",
    "\n",
    "To illustrate how easy this function is to use, let's try to fit some simulated data.  First, we specify a particle to simulate hospital admissions with a known set of parameter values."
   ]
  },
  {
   "cell_type": "code",
   "execution_count": 79,
   "metadata": {},
   "outputs": [],
   "source": [
    "from covid_particle_filter.particle.SEIHR import SEIHR_generator\n",
    "import numpy as np\n",
    "import pandas as pd\n",
    "\n",
    "canon_SEIHR_param_prior = {\n",
    "    'beta'  : [(0.8, None)],\n",
    "    'alpha' : [(0.2, None)],\n",
    "    'gamma' : [(0.25, None)],\n",
    "    'h_rate' : [(0.03, None)]\n",
    "}\n",
    "\n",
    "canon_SEIHR_init_prior = {\n",
    "    'S'   : 98,\n",
    "    'E'   : 1,\n",
    "    'I'   : 1,\n",
    "    'H'  : 0,\n",
    "    'R'   : 0,\n",
    "}\n",
    "\n",
    "canonical_particle = SEIHR_generator(\n",
    "    500000,\n",
    "    param_prior_dict = canon_SEIHR_param_prior,\n",
    "    init_prior_dict = canon_SEIHR_init_prior\n",
    ").generate(0)\n",
    "\n",
    "canonical_particle_sim = canonical_particle.step(30,0,0.1)"
   ]
  },
  {
   "cell_type": "code",
   "execution_count": 80,
   "metadata": {},
   "outputs": [
    {
     "data": {
      "text/plain": [
       "array([[490000,   5000,   5000,      0,      0],\n",
       "       [486129,   7620,   4976,     41,   1234],\n",
       "       [482199,   9896,   5296,     80,   2529],\n",
       "       [477944,  11981,   6060,    124,   3891],\n",
       "       [472934,  14375,   7113,    172,   5406],\n",
       "       [467202,  17062,   8198,    237,   7301],\n",
       "       [460798,  19807,   9634,    318,   9443],\n",
       "       [453167,  23263,  11209,    391,  11970],\n",
       "       [444592,  26882,  13143,    479,  14904],\n",
       "       [434512,  31113,  15482,    572,  18321],\n",
       "       [423072,  35962,  17909,    689,  22368],\n",
       "       [410162,  41175,  20865,    836,  26962],\n",
       "       [396002,  46679,  23916,    986,  32417],\n",
       "       [380188,  52547,  27480,   1169,  38616],\n",
       "       [362811,  58990,  31011,   1391,  45797],\n",
       "       [344299,  65155,  35121,   1668,  53757],\n",
       "       [324506,  71539,  39247,   1922,  62786],\n",
       "       [303761,  77367,  43706,   2230,  72936],\n",
       "       [282222,  82829,  48281,   2561,  84107],\n",
       "       [260204,  87902,  52705,   2907,  96282],\n",
       "       [238402,  91822,  57022,   3304, 109450],\n",
       "       [216777,  95163,  60650,   3756, 123654],\n",
       "       [195912,  96735,  64790,   4237, 138326],\n",
       "       [176236,  96934,  67670,   4750, 154410],\n",
       "       [157841,  96161,  69695,   5311, 170992],\n",
       "       [140852,  94099,  71064,   5848, 188137],\n",
       "       [125536,  90613,  72218,   6347, 205286],\n",
       "       [111776,  86699,  71751,   6916, 222858],\n",
       "       [ 99663,  81589,  71172,   7488, 240088],\n",
       "       [ 89014,  76329,  69527,   8000, 257130],\n",
       "       [ 79564,  71106,  67196,   8524, 273610]])"
      ]
     },
     "execution_count": 80,
     "metadata": {},
     "output_type": "execute_result"
    }
   ],
   "source": [
    "canonical_particle_sim.history"
   ]
  },
  {
   "cell_type": "code",
   "execution_count": 81,
   "metadata": {},
   "outputs": [],
   "source": [
    "h_obs = canonical_particle_sim.history[1:,-2] - canonical_particle_sim.history[:-1,-2]"
   ]
  },
  {
   "cell_type": "code",
   "execution_count": 82,
   "metadata": {},
   "outputs": [
    {
     "data": {
      "text/plain": [
       "array([ 41,  39,  44,  48,  65,  81,  73,  88,  93, 117, 147, 150, 183,\n",
       "       222, 277, 254, 308, 331, 346, 397, 452, 481, 513, 561, 537, 499,\n",
       "       569, 572, 512, 524])"
      ]
     },
     "execution_count": 82,
     "metadata": {},
     "output_type": "execute_result"
    }
   ],
   "source": [
    "h_obs"
   ]
  },
  {
   "cell_type": "markdown",
   "metadata": {},
   "source": [
    "`h_obs` gives us our daily hospital admissions, which is going to be used as our fitting data.  Now, let's create some prior distributions.  We won't center our priors on our true values, but we do need to make sure that those values are included in the possible values.\n",
    "\n",
    "When we fit our particles, notice that we get a diagnostic printout.  This printout indicates our filter's effective sample size (S) at each fitting step (day).  "
   ]
  },
  {
   "cell_type": "code",
   "execution_count": 88,
   "metadata": {},
   "outputs": [],
   "source": [
    "fit_SEIHR_param_prior = {\n",
    "    'beta'  : [(lambda : np.random.normal(1, .15), None)],\n",
    "    'alpha' : [(lambda : np.random.gamma(0.5,0.2), None)],\n",
    "    'gamma' : [(lambda : np.random.gamma(0.5,0.2), None)],\n",
    "    'h_rate' : [(lambda : np.random.lognormal(-3,0.4), None)]\n",
    "}\n",
    "\n",
    "fit_SEIHR_init_prior = {\n",
    "    'S'   : 98,\n",
    "    'E'   : np.random.lognormal(0.75,0.5),\n",
    "    'I'   : np.random.lognormal(0.75,0.5),\n",
    "    'H'  : 0,\n",
    "    'R'   : 0\n",
    "}\n",
    "\n",
    "fit_generator = SEIHR_generator(\n",
    "    500000,\n",
    "    param_prior_dict = fit_SEIHR_param_prior,\n",
    "    init_prior_dict = fit_SEIHR_init_prior\n",
    ")"
   ]
  },
  {
   "cell_type": "code",
   "execution_count": 89,
   "metadata": {},
   "outputs": [],
   "source": [
    "from covid_particle_filter.filter.filter import particle_filter"
   ]
  },
  {
   "cell_type": "code",
   "execution_count": 90,
   "metadata": {},
   "outputs": [
    {
     "name": "stdout",
     "output_type": "stream",
     "text": [
      "2534.094720606521\n",
      "12983.247726041438\n",
      "7168.172194748608\n",
      "13278.328914938484\n",
      "6805.876296683805\n",
      "12003.960120464093\n",
      "11066.308114600486\n",
      "16700.36874327179\n",
      "10383.263844464891\n",
      "18107.66387853993\n",
      "12056.146996506313\n",
      "11298.87113119153\n",
      "17780.82080633688\n",
      "11905.500053690692\n",
      "5832.532897564613\n",
      "13058.14932691773\n",
      "13024.093032643334\n",
      "10672.163030306298\n",
      "13767.459288733777\n",
      "12517.6892711139\n",
      "12189.900137345738\n",
      "11152.341886308912\n",
      "19158.439227162027\n",
      "15650.3543211226\n",
      "13081.913071380908\n",
      "6888.806455777029\n",
      "13692.12803910475\n",
      "10194.410871744643\n",
      "6724.80843548626\n",
      "11434.064834151794\n"
     ]
    }
   ],
   "source": [
    "from covid_particle_filter.filter.filter import particle_filter\n",
    "\n",
    "filtered_particles = particle_filter(\n",
    "    h_obs = [(i+1,h_obs[i]) for i in range(len(h_obs))],\n",
    "    n_particles = 20000,\n",
    "    dt = 0.1,\n",
    "    gen = fit_generator,\n",
    "    s_min = 20000*0.6\n",
    ")"
   ]
  },
  {
   "cell_type": "code",
   "execution_count": 91,
   "metadata": {},
   "outputs": [
    {
     "data": {
      "text/plain": [
       "<matplotlib.axes._subplots.AxesSubplot at 0x17bdd6cd898>"
      ]
     },
     "execution_count": 91,
     "metadata": {},
     "output_type": "execute_result"
    },
    {
     "data": {
      "image/png": "[encoded data removed]",
      "text/plain": [
       "<Figure size 432x288 with 1 Axes>"
      ]
     },
     "metadata": {
      "needs_background": "light"
     },
     "output_type": "display_data"
    }
   ],
   "source": [
    "pd.Series([x.param_generator.params['alpha']['cur'] for x in filtered_particles]).hist()"
   ]
  },
  {
   "cell_type": "code",
   "execution_count": 92,
   "metadata": {},
   "outputs": [
    {
     "data": {
      "text/plain": [
       "<matplotlib.axes._subplots.AxesSubplot at 0x17beab5c978>"
      ]
     },
     "execution_count": 92,
     "metadata": {},
     "output_type": "execute_result"
    },
    {
     "data": {
      "image/png": "[encoded data removed]",
      "text/plain": [
       "<Figure size 432x288 with 1 Axes>"
      ]
     },
     "metadata": {
      "needs_background": "light"
     },
     "output_type": "display_data"
    }
   ],
   "source": [
    "pd.Series([x.param_generator.params['beta']['cur'] for x in filtered_particles]).hist()"
   ]
  },
  {
   "cell_type": "code",
   "execution_count": 93,
   "metadata": {},
   "outputs": [
    {
     "data": {
      "text/plain": [
       "<matplotlib.axes._subplots.AxesSubplot at 0x17be9459f60>"
      ]
     },
     "execution_count": 93,
     "metadata": {},
     "output_type": "execute_result"
    },
    {
     "data": {
      "image/png": "[encoded data removed]",
      "text/plain": [
       "<Figure size 432x288 with 1 Axes>"
      ]
     },
     "metadata": {
      "needs_background": "light"
     },
     "output_type": "display_data"
    }
   ],
   "source": [
    "pd.Series([x.param_generator.params['gamma']['cur'] for x in filtered_particles]).hist()"
   ]
  },
  {
   "cell_type": "code",
   "execution_count": 94,
   "metadata": {},
   "outputs": [
    {
     "data": {
      "text/plain": [
       "<matplotlib.axes._subplots.AxesSubplot at 0x17beaea9b00>"
      ]
     },
     "execution_count": 94,
     "metadata": {},
     "output_type": "execute_result"
    },
    {
     "data": {
      "image/png": "[encoded data removed]",
      "text/plain": [
       "<Figure size 432x288 with 1 Axes>"
      ]
     },
     "metadata": {
      "needs_background": "light"
     },
     "output_type": "display_data"
    }
   ],
   "source": [
    "pd.Series([x.param_generator.params['h_rate']['cur'] for x in filtered_particles]).hist()"
   ]
  },
  {
   "cell_type": "markdown",
   "metadata": {},
   "source": [
    "While the results from this fit look reasonable, there's a lot of room for optimization.  Note that we have many, many particles with identical parameter values.  This is called 'particle depletion', and it occurs because a small number of particles grew to dominate the simulation space.  This can produce ineffective samples and force us to use multiple chains, more particles, or to re-specify our model several times with better prior distributions.  All  of these are good ideas, but the algorithm is highly likely to collapse in this fashion over time.\n",
    "\n",
    "One way to deal with this is to allow particle parameters to correct themselves instead of eliminating them.  This can increase our particle diversity and help particles converge better.  We do this using a genetic algorithm to adjust 'bad' particles to look more like 'good' particles, instead of just dropping the bad ones.  Our implementation is very similar to that detailed  by [Li et al.](https://pubmed.ncbi.nlm.nih.gov/28350341/).\n",
    "\n",
    "Note that the entire interface to this algorithm is identical; we just need to import from `filter_ga` instead of `filter`."
   ]
  },
  {
   "cell_type": "code",
   "execution_count": 95,
   "metadata": {},
   "outputs": [],
   "source": [
    "from covid_particle_filter.filter.filter_ga import particle_filter"
   ]
  },
  {
   "cell_type": "code",
   "execution_count": 96,
   "metadata": {},
   "outputs": [
    {
     "name": "stdout",
     "output_type": "stream",
     "text": [
      "2572.342311258843\n",
      "13145.31905383956\n",
      "7218.245861065331\n",
      "12714.356071714596\n",
      "5597.441850504216\n",
      "11524.766744288901\n",
      "9657.627824754136\n",
      "16261.752262727374\n",
      "8735.529738935042\n",
      "18400.050132636425\n",
      "14339.561633939093\n",
      "12964.452950610847\n",
      "10537.282201982307\n",
      "13577.780251516326\n",
      "3371.306696033133\n",
      "13525.668928435298\n",
      "13020.346390498986\n",
      "10640.304171734238\n",
      "12308.16219551351\n",
      "10252.493483548551\n",
      "18245.99665174157\n",
      "16575.886608032157\n",
      "14722.151842266418\n",
      "11100.786610089703\n",
      "12539.864895290853\n",
      "4646.331326511919\n",
      "17258.99366754389\n",
      "10954.015639752482\n",
      "6334.279262368668\n",
      "3626.7262564522516\n"
     ]
    }
   ],
   "source": [
    "filtered_particles_ga = particle_filter(\n",
    "    h_obs = [(i+1,h_obs[i]) for i in range(len(h_obs))],\n",
    "    n_particles = 20000,\n",
    "    dt = 0.1,\n",
    "    gen = fit_generator,\n",
    "    s_min = 20000*0.6\n",
    ")"
   ]
  },
  {
   "cell_type": "code",
   "execution_count": 97,
   "metadata": {},
   "outputs": [
    {
     "data": {
      "text/plain": [
       "<matplotlib.axes._subplots.AxesSubplot at 0x17bb3239358>"
      ]
     },
     "execution_count": 97,
     "metadata": {},
     "output_type": "execute_result"
    },
    {
     "data": {
      "image/png": "[encoded data removed]",
      "text/plain": [
       "<Figure size 432x288 with 1 Axes>"
      ]
     },
     "metadata": {
      "needs_background": "light"
     },
     "output_type": "display_data"
    }
   ],
   "source": [
    "pd.Series([x.param_generator.params['alpha']['cur'] for x in filtered_particles_ga]).hist()"
   ]
  },
  {
   "cell_type": "code",
   "execution_count": 98,
   "metadata": {},
   "outputs": [
    {
     "data": {
      "text/plain": [
       "<matplotlib.axes._subplots.AxesSubplot at 0x17bd6803208>"
      ]
     },
     "execution_count": 98,
     "metadata": {},
     "output_type": "execute_result"
    },
    {
     "data": {
      "image/png": "[encoded data removed]",
      "text/plain": [
       "<Figure size 432x288 with 1 Axes>"
      ]
     },
     "metadata": {
      "needs_background": "light"
     },
     "output_type": "display_data"
    }
   ],
   "source": [
    "pd.Series([x.param_generator.params['beta']['cur'] for x in filtered_particles_ga]).hist()"
   ]
  },
  {
   "cell_type": "code",
   "execution_count": 99,
   "metadata": {},
   "outputs": [
    {
     "data": {
      "text/plain": [
       "<matplotlib.axes._subplots.AxesSubplot at 0x17bc8ef0470>"
      ]
     },
     "execution_count": 99,
     "metadata": {},
     "output_type": "execute_result"
    },
    {
     "data": {
      "image/png": "[encoded data removed]",
      "text/plain": [
       "<Figure size 432x288 with 1 Axes>"
      ]
     },
     "metadata": {
      "needs_background": "light"
     },
     "output_type": "display_data"
    }
   ],
   "source": [
    "pd.Series([x.param_generator.params['gamma']['cur'] for x in filtered_particles_ga]).hist()"
   ]
  },
  {
   "cell_type": "code",
   "execution_count": 100,
   "metadata": {},
   "outputs": [
    {
     "data": {
      "text/plain": [
       "<matplotlib.axes._subplots.AxesSubplot at 0x17bcff76d68>"
      ]
     },
     "execution_count": 100,
     "metadata": {},
     "output_type": "execute_result"
    },
    {
     "data": {
      "image/png": "[encoded data removed]",
      "text/plain": [
       "<Figure size 432x288 with 1 Axes>"
      ]
     },
     "metadata": {
      "needs_background": "light"
     },
     "output_type": "display_data"
    }
   ],
   "source": [
    "pd.Series([x.param_generator.params['h_rate']['cur'] for x in filtered_particles_ga]).hist()"
   ]
  },
  {
   "cell_type": "markdown",
   "metadata": {},
   "source": [
    "Once again, we find that this particle filter is imperfect.  Likely, we'd need to re-specify our prior distributions, increase the number of particles used, and possibly fit on more data; however, it is also apparent that these simulations offer significantly more robust posterior samples for our parameters.\n",
    "\n",
    "To illustrate how we can use these forecasts, let's also examine what happens when we simulate both our fitted particles and our simulation forward for another 10 days."
   ]
  },
  {
   "cell_type": "code",
   "execution_count": 101,
   "metadata": {},
   "outputs": [],
   "source": [
    "sim_fut = canonical_particle_sim.step(40, 0, 0.1)"
   ]
  },
  {
   "cell_type": "code",
   "execution_count": 102,
   "metadata": {},
   "outputs": [],
   "source": [
    "forecast_parts = [x.step(40,0,0.1) for x in filtered_particles_ga]"
   ]
  },
  {
   "cell_type": "code",
   "execution_count": 116,
   "metadata": {},
   "outputs": [],
   "source": [
    "h_obs_fut = sim_fut.history[-1,-2] - sim_fut.history[-10,-2]"
   ]
  },
  {
   "cell_type": "code",
   "execution_count": 119,
   "metadata": {},
   "outputs": [],
   "source": [
    "lb, med, ub = np.percentile(np.array([\n",
    "    x.history[-1,-2] - x.history[-10,-2] for x in forecast_parts\n",
    "]), [2.5,50,97.5])"
   ]
  },
  {
   "cell_type": "code",
   "execution_count": 120,
   "metadata": {},
   "outputs": [
    {
     "name": "stdout",
     "output_type": "stream",
     "text": [
      "simulated actual: 3278\n",
      "simulated CI: [4093.0, 4539.0, 4799.0]\n"
     ]
    }
   ],
   "source": [
    "print('simulated actual: '  + str(h_obs_fut))\n",
    "print('simulated CI: '  + str([lb, med, ub]))"
   ]
  },
  {
   "cell_type": "markdown",
   "metadata": {},
   "source": [
    "It is also possible to use a Combined version of the particle to simulate instantaneous hospital census over time, as we demonstrated in the `Particle.ipynb` notebook.\n",
    "\n",
    "# Conclusion\n",
    "\n",
    "In this notebook, we have demonstrated how to use both versions of the `particle` function and how to easily use the fitted particles to generate forecasts.  We leave it to the user to find effective prior distributions to fit their own data, as this can be a complex task that is best performed on a case-by-case basis."
   ]
  }
 ],
 "metadata": {
  "kernelspec": {
   "display_name": "Python 3",
   "language": "python",
   "name": "python3"
  },
  "language_info": {
   "codemirror_mode": {
    "name": "ipython",
    "version": 3
   },
   "file_extension": ".py",
   "mimetype": "text/x-python",
   "name": "python",
   "nbconvert_exporter": "python",
   "pygments_lexer": "ipython3",
   "version": "3.7.3"
  }
 },
 "nbformat": 4,
 "nbformat_minor": 4
}
